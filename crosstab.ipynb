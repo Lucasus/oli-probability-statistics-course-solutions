{
 "cells": [
  {
   "cell_type": "code",
   "execution_count": 2,
   "metadata": {},
   "outputs": [
    {
     "name": "stdout",
     "output_type": "stream",
     "text": [
      "True\n"
     ]
    }
   ],
   "source": [
    "import matplotlib\n",
    "import matplotlib.pyplot as plt\n",
    "print(matplotlib.is_interactive())\n",
    "%config IPCompleter.greedy=True"
   ]
  },
  {
   "cell_type": "code",
   "execution_count": 3,
   "metadata": {},
   "outputs": [],
   "source": [
    "import pandas as pd\n",
    "df = pd.read_csv(\"datasets/nightlight.csv\", sep = ';', decimal=\",\")"
   ]
  },
  {
   "cell_type": "code",
   "execution_count": 4,
   "metadata": {},
   "outputs": [
    {
     "data": {
      "text/html": [
       "<div>\n",
       "<style scoped>\n",
       "    .dataframe tbody tr th:only-of-type {\n",
       "        vertical-align: middle;\n",
       "    }\n",
       "\n",
       "    .dataframe tbody tr th {\n",
       "        vertical-align: top;\n",
       "    }\n",
       "\n",
       "    .dataframe thead th {\n",
       "        text-align: right;\n",
       "    }\n",
       "</style>\n",
       "<table border=\"1\" class=\"dataframe\">\n",
       "  <thead>\n",
       "    <tr style=\"text-align: right;\">\n",
       "      <th></th>\n",
       "      <th>Light</th>\n",
       "      <th>Nearsightedness</th>\n",
       "    </tr>\n",
       "  </thead>\n",
       "  <tbody>\n",
       "    <tr>\n",
       "      <th>count</th>\n",
       "      <td>479</td>\n",
       "      <td>479</td>\n",
       "    </tr>\n",
       "    <tr>\n",
       "      <th>unique</th>\n",
       "      <td>3</td>\n",
       "      <td>2</td>\n",
       "    </tr>\n",
       "    <tr>\n",
       "      <th>top</th>\n",
       "      <td>night light</td>\n",
       "      <td>No</td>\n",
       "    </tr>\n",
       "    <tr>\n",
       "      <th>freq</th>\n",
       "      <td>232</td>\n",
       "      <td>342</td>\n",
       "    </tr>\n",
       "  </tbody>\n",
       "</table>\n",
       "</div>"
      ],
      "text/plain": [
       "              Light Nearsightedness\n",
       "count           479             479\n",
       "unique            3               2\n",
       "top     night light              No\n",
       "freq            232             342"
      ]
     },
     "execution_count": 4,
     "metadata": {},
     "output_type": "execute_result"
    }
   ],
   "source": [
    "df.describe(include='all')"
   ]
  },
  {
   "cell_type": "code",
   "execution_count": 10,
   "metadata": {},
   "outputs": [
    {
     "data": {
      "text/html": [
       "<div>\n",
       "<style scoped>\n",
       "    .dataframe tbody tr th:only-of-type {\n",
       "        vertical-align: middle;\n",
       "    }\n",
       "\n",
       "    .dataframe tbody tr th {\n",
       "        vertical-align: top;\n",
       "    }\n",
       "\n",
       "    .dataframe thead th {\n",
       "        text-align: right;\n",
       "    }\n",
       "</style>\n",
       "<table border=\"1\" class=\"dataframe\">\n",
       "  <thead>\n",
       "    <tr style=\"text-align: right;\">\n",
       "      <th>Light</th>\n",
       "      <th>lamp</th>\n",
       "      <th>night light</th>\n",
       "      <th>no light</th>\n",
       "      <th>All</th>\n",
       "    </tr>\n",
       "    <tr>\n",
       "      <th>Nearsightedness</th>\n",
       "      <th></th>\n",
       "      <th></th>\n",
       "      <th></th>\n",
       "      <th></th>\n",
       "    </tr>\n",
       "  </thead>\n",
       "  <tbody>\n",
       "    <tr>\n",
       "      <th>No</th>\n",
       "      <td>34</td>\n",
       "      <td>153</td>\n",
       "      <td>155</td>\n",
       "      <td>342</td>\n",
       "    </tr>\n",
       "    <tr>\n",
       "      <th>Yes</th>\n",
       "      <td>41</td>\n",
       "      <td>79</td>\n",
       "      <td>17</td>\n",
       "      <td>137</td>\n",
       "    </tr>\n",
       "    <tr>\n",
       "      <th>All</th>\n",
       "      <td>75</td>\n",
       "      <td>232</td>\n",
       "      <td>172</td>\n",
       "      <td>479</td>\n",
       "    </tr>\n",
       "  </tbody>\n",
       "</table>\n",
       "</div>"
      ],
      "text/plain": [
       "Light            lamp  night light  no light  All\n",
       "Nearsightedness                                  \n",
       "No                 34          153       155  342\n",
       "Yes                41           79        17  137\n",
       "All                75          232       172  479"
      ]
     },
     "execution_count": 10,
     "metadata": {},
     "output_type": "execute_result"
    }
   ],
   "source": [
    "pd.crosstab(\n",
    "    index=df[\"Nearsightedness\"], \n",
    "    columns=df[\"Light\"], \n",
    "    margins=True)"
   ]
  },
  {
   "cell_type": "code",
   "execution_count": 6,
   "metadata": {},
   "outputs": [
    {
     "data": {
      "text/html": [
       "<style  type=\"text/css\" >\n",
       "</style>  \n",
       "<table id=\"T_443245c6_ca0c_11e8_b89e_1c6f652579ad\" > \n",
       "<thead>    <tr> \n",
       "        <th class=\"index_name level0\" >Light</th> \n",
       "        <th class=\"col_heading level0 col0\" >lamp</th> \n",
       "        <th class=\"col_heading level0 col1\" >night light</th> \n",
       "        <th class=\"col_heading level0 col2\" >no light</th> \n",
       "        <th class=\"col_heading level0 col3\" >All</th> \n",
       "    </tr>    <tr> \n",
       "        <th class=\"index_name level0\" >Nearsightedness</th> \n",
       "        <th class=\"blank\" ></th> \n",
       "        <th class=\"blank\" ></th> \n",
       "        <th class=\"blank\" ></th> \n",
       "        <th class=\"blank\" ></th> \n",
       "    </tr></thead> \n",
       "<tbody>    <tr> \n",
       "        <th id=\"T_443245c6_ca0c_11e8_b89e_1c6f652579adlevel0_row0\" class=\"row_heading level0 row0\" >No</th> \n",
       "        <td id=\"T_443245c6_ca0c_11e8_b89e_1c6f652579adrow0_col0\" class=\"data row0 col0\" >45.33%</td> \n",
       "        <td id=\"T_443245c6_ca0c_11e8_b89e_1c6f652579adrow0_col1\" class=\"data row0 col1\" >65.95%</td> \n",
       "        <td id=\"T_443245c6_ca0c_11e8_b89e_1c6f652579adrow0_col2\" class=\"data row0 col2\" >90.12%</td> \n",
       "        <td id=\"T_443245c6_ca0c_11e8_b89e_1c6f652579adrow0_col3\" class=\"data row0 col3\" >71.40%</td> \n",
       "    </tr>    <tr> \n",
       "        <th id=\"T_443245c6_ca0c_11e8_b89e_1c6f652579adlevel0_row1\" class=\"row_heading level0 row1\" >Yes</th> \n",
       "        <td id=\"T_443245c6_ca0c_11e8_b89e_1c6f652579adrow1_col0\" class=\"data row1 col0\" >54.67%</td> \n",
       "        <td id=\"T_443245c6_ca0c_11e8_b89e_1c6f652579adrow1_col1\" class=\"data row1 col1\" >34.05%</td> \n",
       "        <td id=\"T_443245c6_ca0c_11e8_b89e_1c6f652579adrow1_col2\" class=\"data row1 col2\" >9.88%</td> \n",
       "        <td id=\"T_443245c6_ca0c_11e8_b89e_1c6f652579adrow1_col3\" class=\"data row1 col3\" >28.60%</td> \n",
       "    </tr>    <tr> \n",
       "        <th id=\"T_443245c6_ca0c_11e8_b89e_1c6f652579adlevel0_row2\" class=\"row_heading level0 row2\" >All</th> \n",
       "        <td id=\"T_443245c6_ca0c_11e8_b89e_1c6f652579adrow2_col0\" class=\"data row2 col0\" >100.00%</td> \n",
       "        <td id=\"T_443245c6_ca0c_11e8_b89e_1c6f652579adrow2_col1\" class=\"data row2 col1\" >100.00%</td> \n",
       "        <td id=\"T_443245c6_ca0c_11e8_b89e_1c6f652579adrow2_col2\" class=\"data row2 col2\" >100.00%</td> \n",
       "        <td id=\"T_443245c6_ca0c_11e8_b89e_1c6f652579adrow2_col3\" class=\"data row2 col3\" >100.00%</td> \n",
       "    </tr></tbody> \n",
       "</table> "
      ],
      "text/plain": [
       "<pandas.io.formats.style.Styler at 0x1b58ccae860>"
      ]
     },
     "execution_count": 6,
     "metadata": {},
     "output_type": "execute_result"
    }
   ],
   "source": [
    "crosstab = crosstab/crosstab.T[\"All\"]\n",
    "#grouped = df.groupby(\"College\")\n",
    "#plt.boxplot([group[\"%_grad_on_time\"] for _, group in grouped], labels=[_ for _, group in grouped]);\n",
    "\n",
    "crosstab.style.format('{:,.2%}'.format)\n"
   ]
  }
 ],
 "metadata": {
  "kernelspec": {
   "display_name": "Python 3",
   "language": "python",
   "name": "python3"
  },
  "language_info": {
   "codemirror_mode": {
    "name": "ipython",
    "version": 3
   },
   "file_extension": ".py",
   "mimetype": "text/x-python",
   "name": "python",
   "nbconvert_exporter": "python",
   "pygments_lexer": "ipython3",
   "version": "3.6.5"
  }
 },
 "nbformat": 4,
 "nbformat_minor": 2
}
